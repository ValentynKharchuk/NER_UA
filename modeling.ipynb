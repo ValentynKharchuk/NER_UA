{
 "cells": [
  {
   "cell_type": "code",
   "execution_count": 3,
   "metadata": {
    "scrolled": true
   },
   "outputs": [],
   "source": [
    "import pandas as pd\n",
    "import numpy as np\n",
    "import tokenize_uk\n",
    "import pickle\n",
    "\n",
    "from tqdm import tqdm\n",
    "\n",
    "from keras.preprocessing.sequence import pad_sequences\n",
    "from keras.utils import to_categorical\n",
    "from tensorflow.python.keras.backend import set_session\n",
    "import tensorflow as tf\n",
    "from keras.models import Model, Input, load_model\n",
    "from keras.layers import LSTM, Embedding, Dense, TimeDistributed, Dropout, Bidirectional\n",
    "from keras.initializers import Constant\n",
    "from sklearn.model_selection import train_test_split\n",
    "from seqeval.metrics import f1_score, classification_report\n",
    "from ner_nlp_extracting_service import ner_nlp_extracting\n",
    "from pymongo import MongoClient\n",
    "from vesum_db import vesum_service\n",
    "import tensorflowjs as tfjs\n",
    "\n",
    "import os\n",
    "\n",
    "import matplotlib.pyplot as plt\n",
    "plt.style.use(\"ggplot\")"
   ]
  },
  {
   "cell_type": "code",
   "execution_count": 2,
   "metadata": {},
   "outputs": [],
   "source": [
    "vesum_service.init_vesum()"
   ]
  },
  {
   "cell_type": "code",
   "execution_count": 3,
   "metadata": {},
   "outputs": [],
   "source": [
    "with open('data_prepared/labeled_sentences.pkl', 'rb') as f:\n",
    "    data = pickle.load(f)"
   ]
  },
  {
   "cell_type": "code",
   "execution_count": 5,
   "metadata": {},
   "outputs": [],
   "source": [
    "class Vesum_interface():\n",
    "        \n",
    "    MONGO_URL = ('VESUM_MONGO_DB_URL' in os.environ and os.environ['VESUM_MONGO_DB_URL']) or 'localhost:27017'\n",
    "    DB_NAME = ('VESUM_DB_NAME' in os.environ and os.environ['VESUM_DB_NAME']) or 'natasha-uk-database'\n",
    "    client = MongoClient(MONGO_URL, maxPoolSize=20)\n",
    "    \n",
    "    \n",
    "    def get_main_form_from_vesum(self, word):\n",
    "        samples = [doc['mainForm'] for doc in (self.client[self.DB_NAME]['vesum-entry'].find({'word': word}))]\n",
    "        if len(set(samples)) == 1:\n",
    "            return samples[0]\n",
    "        else:\n",
    "            return word\n",
    "        \n",
    "vesum = Vesum_interface()        "
   ]
  },
  {
   "cell_type": "code",
   "execution_count": 4,
   "metadata": {
    "scrolled": true
   },
   "outputs": [
    {
     "name": "stderr",
     "output_type": "stream",
     "text": [
      "100%|██████████| 22942/22942 [06:56<00:00, 55.04it/s] \n"
     ]
    },
    {
     "name": "stdout",
     "output_type": "stream",
     "text": [
      "459969\n",
      "30902\n",
      "CPU times: user 4min 50s, sys: 21.4 s, total: 5min 11s\n",
      "Wall time: 6min 56s\n"
     ]
    }
   ],
   "source": [
    "%%time\n",
    "\n",
    "\n",
    "words = list()\n",
    "\n",
    "[[words.append(vesum.get_main_form_from_vesum(word[0])) for word in sentence] for sentence in tqdm(data)]\n",
    "\n",
    "print(len(words))\n",
    "words = list(set(words))\n",
    "words.append(\"ENDPAD\")\n",
    "words.append(\"UNKNOWN\")\n",
    "print(len(words))"
   ]
  },
  {
   "cell_type": "code",
   "execution_count": 8,
   "metadata": {},
   "outputs": [
    {
     "name": "stderr",
     "output_type": "stream",
     "text": [
      "100%|██████████| 116803/116803 [00:24<00:00, 4812.22it/s]\n"
     ]
    }
   ],
   "source": [
    "word_embedding = dict()\n",
    "\n",
    "with open('fiction.cased.tokenized.word2vec.300d', 'r') as f:\n",
    "    next(f)\n",
    "    for line in tqdm(f.readlines()):\n",
    "        word, value = line.split()[0], np.asarray(line.split()[1:], dtype='float32')\n",
    "        word_embedding[word] = value"
   ]
  },
  {
   "cell_type": "code",
   "execution_count": 9,
   "metadata": {},
   "outputs": [
    {
     "name": "stdout",
     "output_type": "stream",
     "text": [
      "459969\n",
      "9\n"
     ]
    }
   ],
   "source": [
    "tags = list()\n",
    "\n",
    "[[tags.append(word[1]) for word in sentence] for sentence in data]\n",
    "\n",
    "print(len(tags))\n",
    "tags = list(set(tags))\n",
    "print(len(tags))"
   ]
  },
  {
   "cell_type": "code",
   "execution_count": 10,
   "metadata": {},
   "outputs": [
    {
     "data": {
      "image/png": "[encoded data removed]",
      "text/plain": [
       "<Figure size 432x288 with 1 Axes>"
      ]
     },
     "metadata": {},
     "output_type": "display_data"
    }
   ],
   "source": [
    "plt.hist([len(s) for s in data], bins=10)\n",
    "plt.show()"
   ]
  },
  {
   "cell_type": "code",
   "execution_count": 64,
   "metadata": {
    "scrolled": true
   },
   "outputs": [
    {
     "name": "stderr",
     "output_type": "stream",
     "text": [
      "\n",
      "\n",
      "  0%|          | 0/22942 [00:00<?, ?it/s]\u001b[A\u001b[A\n",
      "\n",
      "100%|██████████| 22942/22942 [00:00<00:00, 139889.40it/s]\u001b[A\u001b[A\n"
     ]
    },
    {
     "name": "stdout",
     "output_type": "stream",
     "text": [
      "459969\n",
      "50366\n"
     ]
    }
   ],
   "source": [
    "# without replacement word to mainform - 50K unique words\n",
    "\"\"\"\n",
    "words = list()\n",
    "\n",
    "[[words.append(word[0]) for word in sentence] for sentence in tqdm(data)]\n",
    "\n",
    "print(len(words))\n",
    "words = list(set(words))\n",
    "words.append(\"ENDPAD\")\n",
    "print(len(words))\n",
    "\"\"\""
   ]
  },
  {
   "cell_type": "code",
   "execution_count": 11,
   "metadata": {},
   "outputs": [
    {
     "data": {
      "text/plain": [
       "381"
      ]
     },
     "execution_count": 11,
     "metadata": {},
     "output_type": "execute_result"
    }
   ],
   "source": [
    "len(list(filter(lambda x: len(x) >= 70, data)))"
   ]
  },
  {
   "cell_type": "code",
   "execution_count": 12,
   "metadata": {},
   "outputs": [],
   "source": [
    "word2indx = {w: i for i, w in enumerate(words)}\n",
    "tag2indx = {t: i for i, t in enumerate(tags)}"
   ]
  },
  {
   "cell_type": "code",
   "execution_count": 13,
   "metadata": {},
   "outputs": [
    {
     "name": "stderr",
     "output_type": "stream",
     "text": [
      "100%|██████████| 30903/30903 [00:00<00:00, 197279.80it/s]\n"
     ]
    }
   ],
   "source": [
    "embedding_matrix = np.zeros((len(word2indx), 300))\n",
    "\n",
    "for word, i in tqdm(word2indx.items()):\n",
    "    embedding_vector = word_embedding.get(word)\n",
    "    if embedding_vector is not None:\n",
    "        embedding_matrix[i] = embedding_vector"
   ]
  },
  {
   "cell_type": "code",
   "execution_count": 14,
   "metadata": {},
   "outputs": [
    {
     "data": {
      "text/plain": [
       "15456"
      ]
     },
     "execution_count": 14,
     "metadata": {},
     "output_type": "execute_result"
    }
   ],
   "source": [
    "#15 455 - word without embedding vector (30K all words)\n",
    "sum(list(map(lambda x: np.array_equal(x.reshape((1, 300)), np.zeros((1, 300))) , embedding_matrix)))"
   ]
  },
  {
   "cell_type": "code",
   "execution_count": 9,
   "metadata": {
    "scrolled": true
   },
   "outputs": [
    {
     "name": "stderr",
     "output_type": "stream",
     "text": [
      "100%|██████████| 22942/22942 [09:36<00:00, 39.78it/s] \n"
     ]
    }
   ],
   "source": [
    "X = [[word2indx[vesum.get_main_form_from_vesum(w[0])] for w in s] for s in tqdm(data)]\n",
    "X = pad_sequences(X, maxlen=70, padding='post', truncating='post', value=word2indx['ENDPAD'])"
   ]
  },
  {
   "cell_type": "code",
   "execution_count": 18,
   "metadata": {},
   "outputs": [
    {
     "data": {
      "text/plain": [
       "array([11129, 26288,  2352, 30231, 16585, 26156, 24353, 11706, 26288,\n",
       "       21131, 11292,  4965, 18777, 23888, 29182, 26288,  2026, 11370,\n",
       "       24677, 27959, 26288, 21764, 14179, 24353, 16543, 30463, 15058,\n",
       "       17427, 27885, 30901, 30901, 30901, 30901, 30901, 30901, 30901,\n",
       "       30901, 30901, 30901, 30901, 30901, 30901, 30901, 30901, 30901,\n",
       "       30901, 30901, 30901, 30901, 30901, 30901, 30901, 30901, 30901,\n",
       "       30901, 30901, 30901, 30901, 30901, 30901, 30901, 30901, 30901,\n",
       "       30901, 30901, 30901, 30901, 30901, 30901, 30901], dtype=int32)"
      ]
     },
     "execution_count": 18,
     "metadata": {},
     "output_type": "execute_result"
    }
   ],
   "source": [
    "X[12]"
   ]
  },
  {
   "cell_type": "code",
   "execution_count": 14,
   "metadata": {},
   "outputs": [],
   "source": [
    "y = [[tag2indx[w[1]] for w in s] for s in data]\n",
    "\n",
    "y = pad_sequences(y, maxlen=70, padding=\"post\", truncating='post', value=tag2indx[\"O\"])"
   ]
  },
  {
   "cell_type": "code",
   "execution_count": 18,
   "metadata": {},
   "outputs": [
    {
     "data": {
      "text/plain": [
       "array([6, 6, 6, 6, 6, 6, 6, 6, 6, 6, 6, 6, 6, 6, 3, 8, 6, 6, 6, 4, 5, 6,\n",
       "       6, 6, 6, 6, 6, 6, 6, 6, 6, 6, 6, 6, 6, 6, 6, 6, 6, 6, 6, 6, 6, 6,\n",
       "       6, 6, 6, 6, 6, 6, 6, 6, 6, 6, 6, 6, 6, 6, 6, 6, 6, 6, 6, 6, 6, 6,\n",
       "       6, 6, 6, 6], dtype=int32)"
      ]
     },
     "execution_count": 18,
     "metadata": {},
     "output_type": "execute_result"
    }
   ],
   "source": [
    "y[13]"
   ]
  },
  {
   "cell_type": "code",
   "execution_count": 19,
   "metadata": {},
   "outputs": [],
   "source": [
    "y = [to_categorical(i, num_classes=len(tag2indx)) for i in y]"
   ]
  },
  {
   "cell_type": "code",
   "execution_count": 20,
   "metadata": {
    "scrolled": true
   },
   "outputs": [
    {
     "data": {
      "text/plain": [
       "array([[0., 0., 0., 0., 0., 0., 1., 0., 0.],\n",
       "       [0., 0., 0., 0., 0., 0., 1., 0., 0.],\n",
       "       [0., 0., 0., 0., 0., 0., 1., 0., 0.],\n",
       "       [0., 0., 0., 0., 0., 0., 1., 0., 0.],\n",
       "       [0., 0., 0., 0., 0., 0., 1., 0., 0.],\n",
       "       [0., 0., 0., 0., 0., 0., 1., 0., 0.],\n",
       "       [0., 0., 0., 0., 0., 0., 1., 0., 0.],\n",
       "       [0., 0., 0., 1., 0., 0., 0., 0., 0.],\n",
       "       [0., 0., 0., 0., 0., 0., 1., 0., 0.],\n",
       "       [0., 0., 0., 0., 0., 0., 1., 0., 0.],\n",
       "       [0., 0., 0., 0., 0., 0., 1., 0., 0.],\n",
       "       [0., 0., 0., 0., 0., 0., 1., 0., 0.],\n",
       "       [0., 0., 0., 0., 0., 0., 1., 0., 0.],\n",
       "       [0., 0., 0., 0., 0., 0., 1., 0., 0.],\n",
       "       [0., 0., 0., 0., 0., 0., 1., 0., 0.],\n",
       "       [0., 0., 0., 0., 0., 0., 1., 0., 0.],\n",
       "       [0., 0., 0., 0., 0., 0., 1., 0., 0.],\n",
       "       [0., 0., 0., 0., 0., 0., 1., 0., 0.],\n",
       "       [0., 0., 0., 0., 0., 0., 1., 0., 0.],\n",
       "       [0., 0., 0., 0., 0., 0., 1., 0., 0.],\n",
       "       [0., 0., 0., 0., 0., 0., 1., 0., 0.],\n",
       "       [0., 0., 0., 0., 0., 0., 1., 0., 0.],\n",
       "       [0., 0., 0., 0., 0., 0., 1., 0., 0.],\n",
       "       [0., 0., 0., 0., 0., 0., 1., 0., 0.],\n",
       "       [0., 0., 0., 0., 0., 0., 1., 0., 0.],\n",
       "       [0., 0., 0., 0., 0., 0., 1., 0., 0.],\n",
       "       [0., 0., 0., 0., 0., 0., 1., 0., 0.],\n",
       "       [0., 0., 0., 0., 0., 0., 1., 0., 0.],\n",
       "       [0., 0., 0., 0., 0., 0., 1., 0., 0.],\n",
       "       [0., 0., 0., 0., 0., 0., 1., 0., 0.],\n",
       "       [0., 0., 0., 0., 0., 0., 1., 0., 0.],\n",
       "       [0., 0., 0., 0., 0., 0., 1., 0., 0.],\n",
       "       [0., 0., 0., 0., 0., 0., 1., 0., 0.],\n",
       "       [0., 0., 0., 0., 0., 0., 1., 0., 0.],\n",
       "       [0., 0., 0., 0., 0., 0., 1., 0., 0.],\n",
       "       [0., 0., 0., 0., 0., 0., 1., 0., 0.],\n",
       "       [0., 0., 0., 0., 0., 0., 1., 0., 0.],\n",
       "       [0., 0., 0., 0., 0., 0., 1., 0., 0.],\n",
       "       [0., 0., 0., 0., 0., 0., 1., 0., 0.],\n",
       "       [0., 0., 0., 0., 0., 0., 1., 0., 0.],\n",
       "       [0., 0., 0., 0., 0., 0., 1., 0., 0.],\n",
       "       [0., 0., 0., 0., 0., 0., 1., 0., 0.],\n",
       "       [0., 0., 0., 0., 0., 0., 1., 0., 0.],\n",
       "       [0., 0., 0., 0., 0., 0., 1., 0., 0.],\n",
       "       [0., 0., 0., 0., 0., 0., 1., 0., 0.],\n",
       "       [0., 0., 0., 0., 0., 0., 1., 0., 0.],\n",
       "       [0., 0., 0., 0., 0., 0., 1., 0., 0.],\n",
       "       [0., 0., 0., 0., 0., 0., 1., 0., 0.],\n",
       "       [0., 0., 0., 0., 0., 0., 1., 0., 0.],\n",
       "       [0., 0., 0., 0., 0., 0., 1., 0., 0.],\n",
       "       [0., 0., 0., 0., 0., 0., 1., 0., 0.],\n",
       "       [0., 0., 0., 0., 0., 0., 1., 0., 0.],\n",
       "       [0., 0., 0., 0., 0., 0., 1., 0., 0.],\n",
       "       [0., 0., 0., 0., 0., 0., 1., 0., 0.],\n",
       "       [0., 0., 0., 0., 0., 0., 1., 0., 0.],\n",
       "       [0., 0., 0., 0., 0., 0., 1., 0., 0.],\n",
       "       [0., 0., 0., 0., 0., 0., 1., 0., 0.],\n",
       "       [0., 0., 0., 0., 0., 0., 1., 0., 0.],\n",
       "       [0., 0., 0., 0., 0., 0., 1., 0., 0.],\n",
       "       [0., 0., 0., 0., 0., 0., 1., 0., 0.],\n",
       "       [0., 0., 0., 0., 0., 0., 1., 0., 0.],\n",
       "       [0., 0., 0., 0., 0., 0., 1., 0., 0.],\n",
       "       [0., 0., 0., 0., 0., 0., 1., 0., 0.],\n",
       "       [0., 0., 0., 0., 0., 0., 1., 0., 0.],\n",
       "       [0., 0., 0., 0., 0., 0., 1., 0., 0.],\n",
       "       [0., 0., 0., 0., 0., 0., 1., 0., 0.],\n",
       "       [0., 0., 0., 0., 0., 0., 1., 0., 0.],\n",
       "       [0., 0., 0., 0., 0., 0., 1., 0., 0.],\n",
       "       [0., 0., 0., 0., 0., 0., 1., 0., 0.],\n",
       "       [0., 0., 0., 0., 0., 0., 1., 0., 0.]], dtype=float32)"
      ]
     },
     "execution_count": 20,
     "metadata": {},
     "output_type": "execute_result"
    }
   ],
   "source": [
    "y[12]"
   ]
  },
  {
   "cell_type": "code",
   "execution_count": 21,
   "metadata": {},
   "outputs": [],
   "source": [
    "X_train, X_test, y_train, y_test = train_test_split(X, y, test_size=0.1)"
   ]
  },
  {
   "cell_type": "code",
   "execution_count": 22,
   "metadata": {},
   "outputs": [
    {
     "name": "stdout",
     "output_type": "stream",
     "text": [
      "(20647, 70) (20647, 70, 9)\n",
      "(2295, 70) (2295, 70, 9)\n"
     ]
    }
   ],
   "source": [
    "print(X_train.shape, np.array(y_train).shape)\n",
    "\n",
    "print(X_test.shape, np.array(y_test).shape)"
   ]
  },
  {
   "cell_type": "code",
   "execution_count": null,
   "metadata": {},
   "outputs": [],
   "source": []
  },
  {
   "cell_type": "code",
   "execution_count": 23,
   "metadata": {},
   "outputs": [],
   "source": [
    "from keras import backend as K\n",
    "\n",
    "def recall_m(y_true, y_pred):\n",
    "        true_positives = K.sum(K.round(K.clip(y_true * y_pred, 0, 1)))\n",
    "        possible_positives = K.sum(K.round(K.clip(y_true, 0, 1)))\n",
    "        recall = true_positives / (possible_positives + K.epsilon())\n",
    "        return recall\n",
    "\n",
    "def precision_m(y_true, y_pred):\n",
    "        true_positives = K.sum(K.round(K.clip(y_true * y_pred, 0, 1)))\n",
    "        predicted_positives = K.sum(K.round(K.clip(y_pred, 0, 1)))\n",
    "        precision = true_positives / (predicted_positives + K.epsilon())\n",
    "        return precision\n",
    "\n",
    "def f1_m(y_true, y_pred):\n",
    "    precision = precision_m(y_true, y_pred)\n",
    "    recall = recall_m(y_true, y_pred)\n",
    "    return 2*((precision*recall)/(precision+recall+K.epsilon()))"
   ]
  },
  {
   "cell_type": "code",
   "execution_count": 96,
   "metadata": {
    "scrolled": false
   },
   "outputs": [
    {
     "name": "stdout",
     "output_type": "stream",
     "text": [
      "Model: \"model_12\"\n",
      "_________________________________________________________________\n",
      "Layer (type)                 Output Shape              Param #   \n",
      "=================================================================\n",
      "input_17 (InputLayer)        (None, 70)                0         \n",
      "_________________________________________________________________\n",
      "embedding_14 (Embedding)     (None, 70, 50)            1545150   \n",
      "_________________________________________________________________\n",
      "dropout_6 (Dropout)          (None, 70, 50)            0         \n",
      "_________________________________________________________________\n",
      "bidirectional_14 (Bidirectio (None, 70, 64)            21248     \n",
      "_________________________________________________________________\n",
      "time_distributed_13 (TimeDis (None, 70, 9)             585       \n",
      "=================================================================\n",
      "Total params: 1,566,983\n",
      "Trainable params: 1,566,983\n",
      "Non-trainable params: 0\n",
      "_________________________________________________________________\n"
     ]
    }
   ],
   "source": [
    "input = Input(shape=(70, ))\n",
    "\n",
    "model = Embedding(input_dim=len(word2indx), output_dim=50, input_length=70, \n",
    "                  #embeddings_initializer=Constant(embedding_matrix),  \n",
    "                  #trainable=False\n",
    "                 )(input)\n",
    "model = Dropout(0.1)(model)\n",
    "model = Bidirectional(LSTM(units=32, return_sequences=True, recurrent_dropout=0.1))(model)\n",
    "out = TimeDistributed(Dense(len(tag2indx), activation=\"softmax\"))(model)  # softmax output layer\n",
    "\n",
    "model = Model(input, out)\n",
    "\n",
    "model.compile(optimizer=\"adam\", loss=\"categorical_crossentropy\", metrics=[\"accuracy\"])\n",
    "\n",
    "\n",
    "model.summary()"
   ]
  },
  {
   "cell_type": "code",
   "execution_count": 97,
   "metadata": {
    "scrolled": true
   },
   "outputs": [
    {
     "name": "stdout",
     "output_type": "stream",
     "text": [
      "Train on 18582 samples, validate on 2065 samples\n",
      "Epoch 1/20\n",
      "18582/18582 [==============================] - 50s 3ms/step - loss: 0.2122 - accuracy: 0.9829 - val_loss: 0.0756 - val_accuracy: 0.9862\n",
      "Epoch 2/20\n",
      "18582/18582 [==============================] - 45s 2ms/step - loss: 0.0569 - accuracy: 0.9873 - val_loss: 0.0506 - val_accuracy: 0.9873\n",
      "Epoch 3/20\n",
      "18582/18582 [==============================] - 45s 2ms/step - loss: 0.0376 - accuracy: 0.9899 - val_loss: 0.0402 - val_accuracy: 0.9893\n",
      "Epoch 4/20\n",
      "18582/18582 [==============================] - 44s 2ms/step - loss: 0.0296 - accuracy: 0.9913 - val_loss: 0.0353 - val_accuracy: 0.9899\n",
      "Epoch 5/20\n",
      "18582/18582 [==============================] - 46s 2ms/step - loss: 0.0243 - accuracy: 0.9924 - val_loss: 0.0317 - val_accuracy: 0.9917\n",
      "Epoch 6/20\n",
      "18582/18582 [==============================] - 45s 2ms/step - loss: 0.0195 - accuracy: 0.9942 - val_loss: 0.0278 - val_accuracy: 0.9932\n",
      "Epoch 7/20\n",
      "18582/18582 [==============================] - 45s 2ms/step - loss: 0.0153 - accuracy: 0.9957 - val_loss: 0.0240 - val_accuracy: 0.9946\n",
      "Epoch 8/20\n",
      "18582/18582 [==============================] - 45s 2ms/step - loss: 0.0120 - accuracy: 0.9967 - val_loss: 0.0235 - val_accuracy: 0.9952\n",
      "Epoch 9/20\n",
      "18582/18582 [==============================] - 45s 2ms/step - loss: 0.0094 - accuracy: 0.9974 - val_loss: 0.0216 - val_accuracy: 0.9957\n",
      "Epoch 10/20\n",
      "18582/18582 [==============================] - 45s 2ms/step - loss: 0.0076 - accuracy: 0.9979 - val_loss: 0.0204 - val_accuracy: 0.9963\n",
      "Epoch 11/20\n",
      "18582/18582 [==============================] - 45s 2ms/step - loss: 0.0064 - accuracy: 0.9983 - val_loss: 0.0191 - val_accuracy: 0.9965\n",
      "Epoch 12/20\n",
      "18582/18582 [==============================] - 45s 2ms/step - loss: 0.0052 - accuracy: 0.9986 - val_loss: 0.0196 - val_accuracy: 0.9966\n",
      "Epoch 13/20\n",
      "18582/18582 [==============================] - 44s 2ms/step - loss: 0.0044 - accuracy: 0.9988 - val_loss: 0.0192 - val_accuracy: 0.9969\n",
      "Epoch 14/20\n",
      "18582/18582 [==============================] - 45s 2ms/step - loss: 0.0038 - accuracy: 0.9989 - val_loss: 0.0196 - val_accuracy: 0.9969\n",
      "Epoch 15/20\n",
      "18582/18582 [==============================] - 45s 2ms/step - loss: 0.0035 - accuracy: 0.9990 - val_loss: 0.0192 - val_accuracy: 0.9970\n",
      "Epoch 16/20\n",
      "18582/18582 [==============================] - 45s 2ms/step - loss: 0.0030 - accuracy: 0.9991 - val_loss: 0.0194 - val_accuracy: 0.9970\n",
      "Epoch 17/20\n",
      "18582/18582 [==============================] - 46s 2ms/step - loss: 0.0027 - accuracy: 0.9992 - val_loss: 0.0193 - val_accuracy: 0.9971\n",
      "Epoch 18/20\n",
      "18582/18582 [==============================] - 45s 2ms/step - loss: 0.0025 - accuracy: 0.9992 - val_loss: 0.0185 - val_accuracy: 0.9972\n",
      "Epoch 19/20\n",
      "18582/18582 [==============================] - 32s 2ms/step - loss: 0.0023 - accuracy: 0.9992 - val_loss: 0.0181 - val_accuracy: 0.9972\n",
      "Epoch 20/20\n",
      "18582/18582 [==============================] - 45s 2ms/step - loss: 0.0022 - accuracy: 0.9993 - val_loss: 0.0188 - val_accuracy: 0.9972\n"
     ]
    }
   ],
   "source": [
    "history = model.fit(X_train, np.array(y_train), batch_size=64, epochs=20, validation_split=0.1, verbose=1, use_multiprocessing=True)"
   ]
  },
  {
   "cell_type": "code",
   "execution_count": 98,
   "metadata": {},
   "outputs": [
    {
     "data": {
      "image/png": "[encoded data removed]",
      "text/plain": [
       "<Figure size 864x864 with 1 Axes>"
      ]
     },
     "metadata": {},
     "output_type": "display_data"
    }
   ],
   "source": [
    "hist = pd.DataFrame(history.history)\n",
    "\n",
    "plt.figure(figsize=(12,12))\n",
    "plt.plot(hist[\"accuracy\"])\n",
    "plt.plot(hist[\"val_accuracy\"])\n",
    "plt.show()"
   ]
  },
  {
   "cell_type": "code",
   "execution_count": 104,
   "metadata": {},
   "outputs": [
    {
     "data": {
      "image/png": "[encoded data removed]",
      "text/plain": [
       "<Figure size 864x864 with 1 Axes>"
      ]
     },
     "metadata": {},
     "output_type": "display_data"
    }
   ],
   "source": [
    "hist = pd.DataFrame(history.history)\n",
    "\n",
    "plt.figure(figsize=(12,12))\n",
    "plt.plot(hist[\"accuracy\"])\n",
    "plt.plot(hist[\"val_accuracy\"])\n",
    "plt.show()"
   ]
  },
  {
   "cell_type": "code",
   "execution_count": null,
   "metadata": {},
   "outputs": [],
   "source": []
  },
  {
   "cell_type": "code",
   "execution_count": 28,
   "metadata": {},
   "outputs": [
    {
     "name": "stdout",
     "output_type": "stream",
     "text": [
      "20647/20647 [==============================] - 25s 1ms/step\n",
      "Train f-score: 0.9528867431100382\n",
      "2295/2295 [==============================] - 2s 998us/step\n",
      "Test f-score: 0.8043715846994536\n",
      "2295/2295 [==============================] - 2s 1ms/step\n",
      "           precision    recall  f1-score   support\n",
      "\n",
      "     PERS       0.85      0.85      0.85       805\n",
      "      LOC       0.76      0.82      0.79       290\n",
      "     MISC       0.68      0.77      0.72       115\n",
      "      ORG       0.58      0.73      0.65       129\n",
      "\n",
      "micro avg       0.79      0.82      0.80      1339\n",
      "macro avg       0.79      0.82      0.81      1339\n",
      "\n"
     ]
    }
   ],
   "source": [
    "# lower case\n",
    "print(f'Train f-score: {f1_score(y_true=[[tags[w] for w in sent] for sent in np.argmax(y_train, axis=-1)], y_pred=[[tags[w] for w in sent] for sent in np.argmax(model.predict(X_train, verbose=1), axis=-1)])}')\n",
    "\n",
    "print(f'Test f-score: {f1_score(y_true=[[tags[w] for w in sent] for sent in np.argmax(y_test, axis=-1)], y_pred=[[tags[w] for w in sent] for sent in np.argmax(model.predict(X_test, verbose=1), axis=-1)])}')\n",
    "\n",
    "\n",
    "print(classification_report(y_true=[[tags[w] for w in sent] for sent in np.argmax(y_test, axis=-1)], y_pred=[[tags[w] for w in sent] for sent in np.argmax(model.predict(X_test, verbose=1), axis=-1)]))"
   ]
  },
  {
   "cell_type": "code",
   "execution_count": 30,
   "metadata": {},
   "outputs": [
    {
     "name": "stdout",
     "output_type": "stream",
     "text": [
      "20647/20647 [==============================] - 17s 804us/step\n",
      "Train f-score: 0.9138082673702727\n",
      "2295/2295 [==============================] - 2s 773us/step\n",
      "Test f-score: 0.754653130287648\n",
      "2295/2295 [==============================] - 3s 1ms/step\n",
      "           precision    recall  f1-score   support\n",
      "\n",
      "      ORG       0.48      0.60      0.53       136\n",
      "     PERS       0.78      0.87      0.83       819\n",
      "      LOC       0.68      0.81      0.74       327\n",
      "     MISC       0.59      0.48      0.53       111\n",
      "\n",
      "micro avg       0.71      0.80      0.75      1393\n",
      "macro avg       0.71      0.80      0.75      1393\n",
      "\n"
     ]
    }
   ],
   "source": [
    "# less units in lstm\n",
    "\n",
    "print(f'Train f-score: {f1_score(y_true=[[tags[w] for w in sent] for sent in np.argmax(y_train, axis=-1)], y_pred=[[tags[w] for w in sent] for sent in np.argmax(model.predict(X_train, verbose=1), axis=-1)])}')\n",
    "\n",
    "print(f'Test f-score: {f1_score(y_true=[[tags[w] for w in sent] for sent in np.argmax(y_test, axis=-1)], y_pred=[[tags[w] for w in sent] for sent in np.argmax(model.predict(X_test, verbose=1), axis=-1)])}')\n",
    "\n",
    "\n",
    "print(classification_report(y_true=[[tags[w] for w in sent] for sent in np.argmax(y_test, axis=-1)], y_pred=[[tags[w] for w in sent] for sent in np.argmax(model.predict(X_test, verbose=1), axis=-1)]))"
   ]
  },
  {
   "cell_type": "code",
   "execution_count": 43,
   "metadata": {},
   "outputs": [
    {
     "name": "stdout",
     "output_type": "stream",
     "text": [
      "20647/20647 [==============================] - 23s 1ms/step\n",
      "Train f-score: 0.9458044773715574\n",
      "2295/2295 [==============================] - 3s 1ms/step\n",
      "Test f-score: 0.8180535966149507\n",
      "2295/2295 [==============================] - 2s 1ms/step\n",
      "           precision    recall  f1-score   support\n",
      "\n",
      "      ORG       0.62      0.71      0.66       136\n",
      "     PERS       0.84      0.87      0.86       819\n",
      "      LOC       0.82      0.85      0.83       327\n",
      "     MISC       0.72      0.64      0.68       111\n",
      "\n",
      "micro avg       0.80      0.83      0.82      1393\n",
      "macro avg       0.81      0.83      0.82      1393\n",
      "\n"
     ]
    }
   ],
   "source": [
    "# add f1-score in metrics, 64 batch-size\n",
    "print(f'Train f-score: {f1_score(y_true=[[tags[w] for w in sent] for sent in np.argmax(y_train, axis=-1)], y_pred=[[tags[w] for w in sent] for sent in np.argmax(model.predict(X_train, verbose=1), axis=-1)])}')\n",
    "\n",
    "print(f'Test f-score: {f1_score(y_true=[[tags[w] for w in sent] for sent in np.argmax(y_test, axis=-1)], y_pred=[[tags[w] for w in sent] for sent in np.argmax(model.predict(X_test, verbose=1), axis=-1)])}')\n",
    "\n",
    "\n",
    "print(classification_report(y_true=[[tags[w] for w in sent] for sent in np.argmax(y_test, axis=-1)], y_pred=[[tags[w] for w in sent] for sent in np.argmax(model.predict(X_test, verbose=1), axis=-1)]))"
   ]
  },
  {
   "cell_type": "code",
   "execution_count": 107,
   "metadata": {},
   "outputs": [
    {
     "name": "stdout",
     "output_type": "stream",
     "text": [
      "20647/20647 [==============================] - 15s 724us/step\n",
      "Train f-score: 0.9495199011912825\n",
      "2295/2295 [==============================] - 1s 649us/step\n",
      "Test f-score: 0.8376188798872842\n",
      "2295/2295 [==============================] - 2s 695us/step\n",
      "           precision    recall  f1-score   support\n",
      "\n",
      "      ORG       0.63      0.69      0.66       133\n",
      "     PERS       0.84      0.91      0.87       800\n",
      "     MISC       0.72      0.76      0.74       126\n",
      "      LOC       0.85      0.89      0.87       307\n",
      "\n",
      "micro avg       0.81      0.87      0.84      1366\n",
      "macro avg       0.81      0.87      0.84      1366\n",
      "\n"
     ]
    }
   ],
   "source": [
    "# with main form of words, LSTM(units=32), batch_size=64\n",
    "print(f'Train f-score: {f1_score(y_true=[[tags[w] for w in sent] for sent in np.argmax(y_train, axis=-1)], y_pred=[[tags[w] for w in sent] for sent in np.argmax(model.predict(X_train, verbose=1), axis=-1)])}')\n",
    "\n",
    "print(f'Test f-score: {f1_score(y_true=[[tags[w] for w in sent] for sent in np.argmax(y_test, axis=-1)], y_pred=[[tags[w] for w in sent] for sent in np.argmax(model.predict(X_test, verbose=1), axis=-1)])}')\n",
    "\n",
    "\n",
    "print(classification_report(y_true=[[tags[w] for w in sent] for sent in np.argmax(y_test, axis=-1)], y_pred=[[tags[w] for w in sent] for sent in np.argmax(model.predict(X_test, verbose=1), axis=-1)]))"
   ]
  },
  {
   "cell_type": "code",
   "execution_count": 187,
   "metadata": {},
   "outputs": [
    {
     "name": "stdout",
     "output_type": "stream",
     "text": [
      "20647/20647 [==============================] - 37s 2ms/step\n",
      "Train f-score: 0.610128509380737\n",
      "2295/2295 [==============================] - 2s 1ms/step\n",
      "Test f-score: 0.5008278145695365\n",
      "2295/2295 [==============================] - 2s 1ms/step\n",
      "           precision    recall  f1-score   support\n",
      "\n",
      "      ORG       0.14      0.11      0.13       133\n",
      "     PERS       0.68      0.54      0.60       800\n",
      "     MISC       0.22      0.12      0.15       126\n",
      "      LOC       0.59      0.47      0.52       307\n",
      "\n",
      "micro avg       0.58      0.44      0.50      1366\n",
      "macro avg       0.57      0.44      0.50      1366\n",
      "\n"
     ]
    }
   ],
   "source": [
    "# with main form of words, LSTM(units=32), batch_size=64, embedding(non-trainable)\n",
    "print(f'Train f-score: {f1_score(y_true=[[tags[w] for w in sent] for sent in np.argmax(y_train, axis=-1)], y_pred=[[tags[w] for w in sent] for sent in np.argmax(model.predict(X_train, verbose=1), axis=-1)])}')\n",
    "\n",
    "print(f'Test f-score: {f1_score(y_true=[[tags[w] for w in sent] for sent in np.argmax(y_test, axis=-1)], y_pred=[[tags[w] for w in sent] for sent in np.argmax(model.predict(X_test, verbose=1), axis=-1)])}')\n",
    "\n",
    "\n",
    "print(classification_report(y_true=[[tags[w] for w in sent] for sent in np.argmax(y_test, axis=-1)], y_pred=[[tags[w] for w in sent] for sent in np.argmax(model.predict(X_test, verbose=1), axis=-1)]))"
   ]
  },
  {
   "cell_type": "code",
   "execution_count": 65,
   "metadata": {},
   "outputs": [
    {
     "name": "stdout",
     "output_type": "stream",
     "text": [
      "20647/20647 [==============================] - 21s 1ms/step\n",
      "Train f-score: 0.5538571769763555\n",
      "2295/2295 [==============================] - 2s 977us/step\n",
      "Test f-score: 0.5097357440890126\n",
      "2295/2295 [==============================] - 2s 905us/step\n",
      "           precision    recall  f1-score   support\n",
      "\n",
      "      LOC       0.00      0.00      0.00       281\n",
      "     PERS       0.50      0.85      0.63       846\n",
      "      ORG       0.27      0.09      0.13       149\n",
      "     MISC       0.00      0.00      0.00       103\n",
      "\n",
      "micro avg       0.49      0.53      0.51      1379\n",
      "macro avg       0.33      0.53      0.40      1379\n",
      "\n"
     ]
    }
   ],
   "source": [
    "# CRF, embedding=20, batch=32\n",
    "print(f'Train f-score: {f1_score(y_true=[[tags[w] for w in sent] for sent in np.argmax(y_train, axis=-1)], y_pred=[[tags[w] for w in sent] for sent in np.argmax(model.predict(X_train, verbose=1), axis=-1)])}')\n",
    "\n",
    "print(f'Test f-score: {f1_score(y_true=[[tags[w] for w in sent] for sent in np.argmax(y_test, axis=-1)], y_pred=[[tags[w] for w in sent] for sent in np.argmax(model.predict(X_test, verbose=1), axis=-1)])}')\n",
    "\n",
    "\n",
    "print(classification_report(y_true=[[tags[w] for w in sent] for sent in np.argmax(y_test, axis=-1)], y_pred=[[tags[w] for w in sent] for sent in np.argmax(model.predict(X_test, verbose=1), axis=-1)]))"
   ]
  },
  {
   "cell_type": "code",
   "execution_count": 39,
   "metadata": {},
   "outputs": [
    {
     "name": "stdout",
     "output_type": "stream",
     "text": [
      "20647/20647 [==============================] - 12s 585us/step\n",
      "Train f-score: 0\n",
      "2295/2295 [==============================] - 2s 666us/step\n",
      "Test f-score: 0\n",
      "2295/2295 [==============================] - 1s 586us/step\n",
      "           precision    recall  f1-score   support\n",
      "\n",
      "     PERS       0.00      0.00      0.00       778\n",
      "      LOC       0.00      0.00      0.00       288\n",
      "      ORG       0.00      0.00      0.00       147\n",
      "     MISC       0.00      0.00      0.00       108\n",
      "\n",
      "micro avg       0.00      0.00      0.00      1321\n",
      "macro avg       0.00      0.00      0.00      1321\n",
      "\n"
     ]
    }
   ],
   "source": [
    "# without embedding, batch=64\n",
    "\n",
    "\n",
    "print(f'Train f-score: {f1_score(y_true=[[tags[w] for w in sent] for sent in np.argmax(y_train, axis=-1)], y_pred=[[tags[w] for w in sent] for sent in np.argmax(model.predict(X_train.reshape((X_train.shape[0], X_train.shape[1], 1)), verbose=1), axis=-1)])}')\n",
    "\n",
    "print(f'Test f-score: {f1_score(y_true=[[tags[w] for w in sent] for sent in np.argmax(y_test, axis=-1)], y_pred=[[tags[w] for w in sent] for sent in np.argmax(model.predict(X_test.reshape((X_test.shape[0], X_test.shape[1], 1)), verbose=1), axis=-1)])}')\n",
    "\n",
    "\n",
    "print(classification_report(y_true=[[tags[w] for w in sent] for sent in np.argmax(y_test, axis=-1)], y_pred=[[tags[w] for w in sent] for sent in np.argmax(model.predict(X_test.reshape((X_test.shape[0], X_test.shape[1], 1)), verbose=1), axis=-1)]))"
   ]
  },
  {
   "cell_type": "code",
   "execution_count": 68,
   "metadata": {},
   "outputs": [
    {
     "name": "stdout",
     "output_type": "stream",
     "text": [
      "20647/20647 [==============================] - 10s 465us/step\n",
      "Train f-score: 0.5721529015646662\n",
      "2295/2295 [==============================] - 1s 451us/step\n",
      "Test f-score: 0.5598105013817608\n",
      "2295/2295 [==============================] - 1s 462us/step\n",
      "           precision    recall  f1-score   support\n",
      "\n",
      "     PERS       0.65      0.81      0.72       778\n",
      "      LOC       0.42      0.21      0.28       288\n",
      "      ORG       0.21      0.13      0.16       147\n",
      "     MISC       0.00      0.00      0.00       108\n",
      "\n",
      "micro avg       0.58      0.54      0.56      1321\n",
      "macro avg       0.50      0.54      0.50      1321\n",
      "\n"
     ]
    }
   ],
   "source": [
    "# embedding=5, lstm=4, batch=64, epochs=15\n",
    "\n",
    "\n",
    "print(f'Train f-score: {f1_score(y_true=[[tags[w] for w in sent] for sent in np.argmax(y_train, axis=-1)], y_pred=[[tags[w] for w in sent] for sent in np.argmax(model.predict(X_train, verbose=1), axis=-1)])}')\n",
    "\n",
    "print(f'Test f-score: {f1_score(y_true=[[tags[w] for w in sent] for sent in np.argmax(y_test, axis=-1)], y_pred=[[tags[w] for w in sent] for sent in np.argmax(model.predict(X_test, verbose=1), axis=-1)])}')\n",
    "\n",
    "\n",
    "print(classification_report(y_true=[[tags[w] for w in sent] for sent in np.argmax(y_test, axis=-1)], y_pred=[[tags[w] for w in sent] for sent in np.argmax(model.predict(X_test, verbose=1), axis=-1)]))"
   ]
  },
  {
   "cell_type": "code",
   "execution_count": 78,
   "metadata": {},
   "outputs": [
    {
     "name": "stdout",
     "output_type": "stream",
     "text": [
      "20647/20647 [==============================] - 14s 661us/step\n",
      "Train f-score: 0.95485778203899\n",
      "2295/2295 [==============================] - 2s 699us/step\n",
      "Test f-score: 0.8894941634241245\n",
      "2295/2295 [==============================] - 2s 669us/step\n",
      "           precision    recall  f1-score   support\n",
      "\n",
      "     PERS       0.93      0.91      0.92       778\n",
      "      LOC       0.91      0.87      0.89       288\n",
      "      ORG       0.90      0.76      0.83       147\n",
      "     MISC       0.82      0.69      0.75       108\n",
      "\n",
      "micro avg       0.92      0.87      0.89      1321\n",
      "macro avg       0.91      0.87      0.89      1321\n",
      "\n"
     ]
    }
   ],
   "source": [
    "# embedding=50, lstm=32, batch=64, epochs=15, add dropout\n",
    "\n",
    "\n",
    "print(f'Train f-score: {f1_score(y_true=[[tags[w] for w in sent] for sent in np.argmax(y_train, axis=-1)], y_pred=[[tags[w] for w in sent] for sent in np.argmax(model.predict(X_train, verbose=1), axis=-1)])}')\n",
    "\n",
    "print(f'Test f-score: {f1_score(y_true=[[tags[w] for w in sent] for sent in np.argmax(y_test, axis=-1)], y_pred=[[tags[w] for w in sent] for sent in np.argmax(model.predict(X_test, verbose=1), axis=-1)])}')\n",
    "\n",
    "\n",
    "print(classification_report(y_true=[[tags[w] for w in sent] for sent in np.argmax(y_test, axis=-1)], y_pred=[[tags[w] for w in sent] for sent in np.argmax(model.predict(X_test, verbose=1), axis=-1)]))"
   ]
  },
  {
   "cell_type": "code",
   "execution_count": 100,
   "metadata": {},
   "outputs": [
    {
     "name": "stdout",
     "output_type": "stream",
     "text": [
      "20647/20647 [==============================] - 18s 882us/step\n",
      "Train f-score: 0.9574493683577301\n",
      "2295/2295 [==============================] - 2s 788us/step\n",
      "Test f-score: 0.8879377431906614\n",
      "2295/2295 [==============================] - 2s 778us/step\n",
      "           precision    recall  f1-score   support\n",
      "\n",
      "     PERS       0.93      0.91      0.92       778\n",
      "      LOC       0.90      0.84      0.87       288\n",
      "      ORG       0.86      0.78      0.82       147\n",
      "     MISC       0.90      0.69      0.78       108\n",
      "\n",
      "micro avg       0.91      0.86      0.89      1321\n",
      "macro avg       0.91      0.86      0.89      1321\n",
      "\n"
     ]
    }
   ],
   "source": [
    "# embedding=50, lstm=32, batch=64, epochs=15, add dropout\n",
    "\n",
    "\n",
    "print(f'Train f-score: {f1_score(y_true=[[tags[w] for w in sent] for sent in np.argmax(y_train, axis=-1)], y_pred=[[tags[w] for w in sent] for sent in np.argmax(model.predict(X_train, verbose=1), axis=-1)])}')\n",
    "\n",
    "print(f'Test f-score: {f1_score(y_true=[[tags[w] for w in sent] for sent in np.argmax(y_test, axis=-1)], y_pred=[[tags[w] for w in sent] for sent in np.argmax(model.predict(X_test, verbose=1), axis=-1)])}')\n",
    "\n",
    "\n",
    "print(classification_report(y_true=[[tags[w] for w in sent] for sent in np.argmax(y_test, axis=-1)], y_pred=[[tags[w] for w in sent] for sent in np.argmax(model.predict(X_test, verbose=1), axis=-1)]))"
   ]
  },
  {
   "cell_type": "code",
   "execution_count": 110,
   "metadata": {},
   "outputs": [],
   "source": [
    "model.save('saved_objects/model_without_pretrained_embedding.h5')"
   ]
  },
  {
   "cell_type": "code",
   "execution_count": 129,
   "metadata": {},
   "outputs": [],
   "source": [
    "with open('saved_objects/word2indx', 'wb') as f:\n",
    "    pickle.dump(word2indx, f)\n",
    "    \n",
    "    \n",
    "with open('saved_objects/tag2indx', 'wb') as f:\n",
    "    pickle.dump(tag2indx, f)    "
   ]
  },
  {
   "cell_type": "code",
   "execution_count": null,
   "metadata": {},
   "outputs": [],
   "source": []
  },
  {
   "cell_type": "code",
   "execution_count": null,
   "metadata": {},
   "outputs": [],
   "source": []
  },
  {
   "cell_type": "code",
   "execution_count": null,
   "metadata": {},
   "outputs": [],
   "source": []
  },
  {
   "cell_type": "code",
   "execution_count": 6,
   "metadata": {},
   "outputs": [],
   "source": [
    "vesum_service.init_vesum()\n",
    "\n",
    "sess = tf.Session()\n",
    "\n",
    "graph = tf.get_default_graph()\n",
    "\n",
    "set_session(sess)\n",
    "\n",
    "model = load_model('saved_objects/model_without_pretrained_embedding.h5')\n",
    "\n",
    "vesum = Vesum_interface()\n",
    "    \n",
    "\n",
    "with open('saved_objects/word2indx', 'rb') as f:\n",
    "    word2indx = pickle.load(f)\n",
    "    \n",
    "with open('saved_objects/tag2indx', 'rb') as f:\n",
    "    tag2indx = pickle.load(f)  "
   ]
  },
  {
   "cell_type": "code",
   "execution_count": 7,
   "metadata": {
    "pycharm": {
     "name": "#%%\n"
    }
   },
   "outputs": [
    {
     "data": {
      "text/plain": [
       "[{'entity_type': 'PERS',\n",
       "  'start_index': 10,\n",
       "  'finish_index': 25,\n",
       "  'text_entity': 'Івана Кузьменка'}]"
      ]
     },
     "execution_count": 7,
     "metadata": {},
     "output_type": "execute_result"
    }
   ],
   "source": [
    "ner_nlp_extracting('біографія Івана Кузьменка досить цікава',\n",
    "                   model, vesum, word2indx, tag2indx, sess, graph)"
   ]
  },
  {
   "cell_type": "markdown",
   "metadata": {},
   "source": [
    "## Save objects to json"
   ]
  },
  {
   "cell_type": "code",
   "execution_count": 9,
   "metadata": {},
   "outputs": [],
   "source": [
    "import json"
   ]
  },
  {
   "cell_type": "code",
   "execution_count": 8,
   "metadata": {},
   "outputs": [
    {
     "name": "stderr",
     "output_type": "stream",
     "text": [
      "/home/valentyn/NER_UA/venv/lib/python3.6/site-packages/tensorflowjs/converters/keras_h5_conversion.py:122: H5pyDeprecationWarning: The default file mode will change to 'r' (read-only) in h5py 3.0. To suppress this warning, pass the mode you need to h5py.File(), or set the global default h5.get_config().default_file_mode, or set the environment variable H5PY_DEFAULT_READONLY=1. Available modes are: 'r', 'r+', 'w', 'w-'/'x', 'a'. See the docs for details.\n",
      "  return h5py.File(h5file)\n"
     ]
    }
   ],
   "source": [
    "tfjs.converters.save_keras_model(model, 'saved_objects/model_without_pretrained_embedding_js.json')"
   ]
  },
  {
   "cell_type": "code",
   "execution_count": 13,
   "metadata": {},
   "outputs": [],
   "source": [
    "with open('saved_objects/word2indx_js.json', 'w') as fp:\n",
    "    json.dump(word2indx, fp)"
   ]
  },
  {
   "cell_type": "code",
   "execution_count": 14,
   "metadata": {},
   "outputs": [],
   "source": [
    "with open('saved_objects/tag2indx_js.json', 'w') as fp:\n",
    "    json.dump(tag2indx, fp)"
   ]
  }
 ],
 "metadata": {
  "kernelspec": {
   "display_name": "Python 3",
   "language": "python",
   "name": "python3"
  },
  "language_info": {
   "codemirror_mode": {
    "name": "ipython",
    "version": 3
   },
   "file_extension": ".py",
   "mimetype": "text/x-python",
   "name": "python",
   "nbconvert_exporter": "python",
   "pygments_lexer": "ipython3",
   "version": "3.6.9"
  },
  "pycharm": {
   "stem_cell": {
    "cell_type": "raw",
    "metadata": {
     "collapsed": false
    },
    "source": []
   }
  }
 },
 "nbformat": 4,
 "nbformat_minor": 2
}
